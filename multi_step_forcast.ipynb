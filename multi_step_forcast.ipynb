{
  "nbformat": 4,
  "nbformat_minor": 0,
  "metadata": {
    "colab": {
      "name": "multi-step-forcast.ipynb",
      "provenance": [],
      "collapsed_sections": [],
      "toc_visible": true,
      "machine_shape": "hm",
      "mount_file_id": "1dG771r00G_K_OZizd54gEA9ue5sYktxK",
      "authorship_tag": "ABX9TyOIUekSNFKkd9ZLl38jFwpd",
      "include_colab_link": true
    },
    "kernelspec": {
      "name": "python3",
      "display_name": "Python 3"
    },
    "accelerator": "GPU"
  },
  "cells": [
    {
      "cell_type": "markdown",
      "metadata": {
        "id": "view-in-github",
        "colab_type": "text"
      },
      "source": [
        "<a href=\"https://colab.research.google.com/github/cheangjialiang/forexforcast/blob/master/multi_step_forcast.ipynb\" target=\"_parent\"><img src=\"https://colab.research.google.com/assets/colab-badge.svg\" alt=\"Open In Colab\"/></a>"
      ]
    },
    {
      "cell_type": "code",
      "metadata": {
        "id": "TYFAHEWWomZ5",
        "colab_type": "code",
        "colab": {}
      },
      "source": [
        "!pip install \"/content/drive/My Drive/Colab Notebooks/lib/TA_Lib-0.4.18-cp36-cp36m-linux_x86_64.whl\"\n",
        "# memory footprint support libraries/code\n",
        "!ln -sf /opt/bin/nvidia-smi /usr/bin/nvidia-smi\n",
        "!pip install gputil\n",
        "!pip install psutil\n",
        "!pip install humanize\n",
        "import psutil\n",
        "import humanize\n",
        "import os\n",
        "import GPUtil as GPU\n",
        "GPUs = GPU.getGPUs()\n",
        "# XXX: only one GPU on Colab and isn’t guaranteed\n",
        "gpu = GPUs[0]\n",
        "def printm():\n",
        "  process = psutil.Process(os.getpid())\n",
        "  print(\"Gen RAM Free: \" + humanize.naturalsize( psutil.virtual_memory().available ), \" | Proc size: \" + humanize.naturalsize( process.memory_info().rss))\n",
        "  print(\"GPU RAM Free: {0:.0f}MB | Used: {1:.0f}MB | Util {2:3.0f}% | Total {3:.0f}MB\".format(gpu.memoryFree, gpu.memoryUsed, gpu.memoryUtil*100, gpu.memoryTotal))\n",
        "from tensorflow.python.client import device_lib\n",
        "device_lib.list_local_devices()"
      ],
      "execution_count": 0,
      "outputs": []
    },
    {
      "cell_type": "code",
      "metadata": {
        "id": "cZ8ehvgpoFNr",
        "colab_type": "code",
        "colab": {}
      },
      "source": [
        "#!pip install jupyterlab\n",
        "#!npm i -g npm\n",
        "#!npm install -g localtunnel\n",
        "#!whereis lt"
      ],
      "execution_count": 0,
      "outputs": []
    },
    {
      "cell_type": "code",
      "metadata": {
        "id": "_GWOuhBJ4rKW",
        "colab_type": "code",
        "outputId": "d5d93c48-55d8-49ab-b21d-5a0779e2631b",
        "colab": {
          "base_uri": "https://localhost:8080/",
          "height": 153
        }
      },
      "source": [
        "PAIRS_LIST        = [\"EURUSD\", \"USDJPY\", \"EURJPY\"] #, \"USDCHF\", \"EURCHF\"] #, \"AUDUSD\" ]\n",
        "PREDICTING_PAIR   = \"EURUSD\" \n",
        "PREDICTING_COLUMN = \"close\"\n",
        "LOOK_BACK         = 32 # 30 * 15 = 8 hour\n",
        "SPLIT             = 0.95 # data split ration for training and testing\n",
        "DATA_PATH          = \"/content/drive/My Drive/Colab Notebooks/data/\"\n",
        "import numpy as np # linear algebra\n",
        "import pandas as pd # data processing, CSV file I/O (e.g. pd.read_csv)\n",
        "import os\n",
        "for dirname, _, filenames in os.walk(DATA_PATH):\n",
        "    for filename in filenames:\n",
        "        print(os.path.join(dirname, filename))"
      ],
      "execution_count": 0,
      "outputs": [
        {
          "output_type": "stream",
          "text": [
            "/content/drive/My Drive/Colab Notebooks/data/USDCHF-2000-2020-15m.csv\n",
            "/content/drive/My Drive/Colab Notebooks/data/EURJPY-2000-2020-15m.csv\n",
            "/content/drive/My Drive/Colab Notebooks/data/USDCAD-2000-2020-15m.csv\n",
            "/content/drive/My Drive/Colab Notebooks/data/AUDUSD-2000-2020-15m.csv\n",
            "/content/drive/My Drive/Colab Notebooks/data/USDJPY-2000-2020-15m.csv\n",
            "/content/drive/My Drive/Colab Notebooks/data/EURUSD-2000-2020-15m.csv\n",
            "/content/drive/My Drive/Colab Notebooks/data/EURCHF-2000-2020-15m.csv\n",
            "/content/drive/My Drive/Colab Notebooks/data/weights.best.hdf5\n"
          ],
          "name": "stdout"
        }
      ]
    },
    {
      "cell_type": "code",
      "metadata": {
        "id": "itzsgHYPwwzb",
        "colab_type": "code",
        "colab": {}
      },
      "source": [
        "#from IPython.lib import passwd\n",
        "#password = passwd(\"secret\")\n",
        "#password\n",
        "#!npm install -g localtunnel\n",
        "#get_ipython().system_raw('jupyter notebook --ip=0.0.0.0 --port=8888 &')\n",
        "#get_ipython().system_raw('jupyter lab --ip=0.0.0.0 --port=8889 &')\n",
        "#get_ipython().system_raw('lt --port 8888 >> url.txt 2>&1 &')\n",
        "#get_ipython().system_raw('lt --port 8888 --ip=\"172.28.0.2\" >> url.txt 2>&1 &')\n",
        "#!cat url.txt\n"
      ],
      "execution_count": 0,
      "outputs": []
    },
    {
      "cell_type": "code",
      "metadata": {
        "id": "-nEXAKEKwvPP",
        "colab_type": "code",
        "colab": {}
      },
      "source": [
        "jupyter_running = !jupyter notebook list | grep 8888\n",
        "if not jupyter_running:\n",
        "  !mkdir -p /content/.jupyter\n",
        "  !echo '{ \"NotebookApp\": { \"password\": \"sha1:975a59cda9c4:e148fb36c9433c39fb5e678e33a45215fc83aa27\" } }' > /content/.jupyter/jupyter_notebook_config.json\n",
        "  get_ipython().system_raw('jupyter lab &')"
      ],
      "execution_count": 0,
      "outputs": []
    },
    {
      "cell_type": "code",
      "metadata": {
        "id": "Mhu1OtMVKyEi",
        "colab_type": "code",
        "colab": {}
      },
      "source": [
        "!cp '/content/drive/My Drive/Colab Notebooks/util/TechnicalIndicators.py' .\n",
        "!pip install alpha_vantage"
      ],
      "execution_count": 0,
      "outputs": []
    },
    {
      "cell_type": "code",
      "metadata": {
        "id": "ICi5x7VbMhKb",
        "colab_type": "code",
        "outputId": "9d904252-882b-45e2-8ff8-34c60f0272b1",
        "colab": {
          "base_uri": "https://localhost:8080/",
          "height": 51
        }
      },
      "source": [
        "import pandas as pd\n",
        "import numpy as np\n",
        "from numpy import concatenate\n",
        "import matplotlib.pyplot as plt\n",
        "from sklearn.preprocessing import MinMaxScaler\n",
        "from sklearn.metrics import mean_squared_error\n",
        "from keras.models import Sequential\n",
        "from keras.layers import Dense, Dropout, LSTM\n",
        "import keras\n",
        "from TechnicalIndicators import TechnicalIndicators\n",
        "from matplotlib.pylab import rcParams\n",
        "rcParams['figure.figsize'] = 20,10\n",
        "TI=TechnicalIndicators()\n",
        "close_data=TI.close_data[['4. close']]\n",
        "macd_data=TI.macd_data\n",
        "rsi_data=TI.rsi_data\n",
        "bbands_data=TI.bbands_data\n",
        "dataset = pd.concat([macd_data,rsi_data,bbands_data,close_data], axis=1,sort=True).reindex(macd_data.index)\n",
        "dataset=dataset.drop(dataset.index[len(dataset)-1])\n",
        "close_data = dataset[['4. close']]"
      ],
      "execution_count": 0,
      "outputs": [
        {
          "output_type": "stream",
          "text": [
            "Using TensorFlow backend.\n"
          ],
          "name": "stderr"
        },
        {
          "output_type": "stream",
          "text": [
            "Enter stock name:AAPL\n"
          ],
          "name": "stdout"
        }
      ]
    },
    {
      "cell_type": "code",
      "metadata": {
        "id": "_NNEB5vZYarz",
        "colab_type": "code",
        "colab": {}
      },
      "source": [
        "X = dataset.drop(dataset.index[len(dataset)-1])\n",
        "y = close_data.drop(close_data.index[0])\n",
        "values_x = X.values\n",
        "values_y = y.values\n",
        "scaler = MinMaxScaler(feature_range=(0, 1))\n",
        "scaled_data_X = scaler.fit_transform(values_x)\n",
        "scaled_data_y = scaler.fit_transform(values_y)\n",
        "X_train = scaled_data_X[:int(X.shape[0]*0.8)]\n",
        "X_test = scaled_data_X[int(y.shape[0]*0.8):]\n",
        "y_train = scaled_data_y[:int(X.shape[0]*0.8)]\n",
        "y_test = scaled_data_y[int(y.shape[0]*0.8):]"
      ],
      "execution_count": 0,
      "outputs": []
    },
    {
      "cell_type": "code",
      "metadata": {
        "id": "9DAACU0HYfRP",
        "colab_type": "code",
        "outputId": "25b1ac4a-9229-4987-8968-1bb55c8da777",
        "colab": {
          "base_uri": "https://localhost:8080/",
          "height": 34
        }
      },
      "source": [
        "X_train = np.array(X_train)\n",
        "X_test = np.array(X_test)\n",
        "y_train = np.array(y_train)\n",
        "y_test = np.array(y_test)\n",
        "X_train = X_train.reshape(X_train.shape[0],1,X_train.shape[1])\n",
        "X_test = X_test.reshape(X_test.shape[0],1,X_test.shape[1])\n",
        "y_train = y_train.reshape(y_train.shape[0],1,1)\n",
        "y_test = y_test.reshape(y_test.shape[0],1,1)\n",
        "print(X_train.shape,y_train.shape,X_test.shape,y_test.shape)"
      ],
      "execution_count": 0,
      "outputs": [
        {
          "output_type": "stream",
          "text": [
            "(3997, 1, 8) (3997, 1, 1) (1000, 1, 8) (1000, 1, 1)\n"
          ],
          "name": "stdout"
        }
      ]
    },
    {
      "cell_type": "code",
      "metadata": {
        "id": "4YwZYW4JNwXM",
        "colab_type": "code",
        "outputId": "b1aa9792-cda8-475f-f66c-9d2ee64374bf",
        "colab": {
          "base_uri": "https://localhost:8080/",
          "height": 34
        }
      },
      "source": [
        "a_train,b_train,c_test,d_test =[],[],[],[]\n",
        "for i in range(65,y_train.shape[0]):\n",
        "    a_train.append(X_train[i-65:i-5,0])\n",
        "    b_train.append(y_train[i-5:i,0])\n",
        "for x in range(65,y_test.shape[0]):\n",
        "    c_test.append(X_test[x-65:x-5,0])\n",
        "    d_test.append(y_test[x-5:x,0])\n",
        "a_train, b_train,c_test,d_test = np.array(a_train), np.array(b_train),np.array(c_test),np.array(d_test)\n",
        "print(a_train.shape,b_train.shape,c_test.shape,d_test.shape)"
      ],
      "execution_count": 0,
      "outputs": [
        {
          "output_type": "stream",
          "text": [
            "(3932, 60, 8) (3932, 5, 1) (935, 60, 8) (935, 5, 1)\n"
          ],
          "name": "stdout"
        }
      ]
    },
    {
      "cell_type": "code",
      "metadata": {
        "id": "wo2BE_UrbjSB",
        "colab_type": "code",
        "outputId": "b102d4d2-e74b-4f57-e2a7-673130cecc6b",
        "colab": {
          "base_uri": "https://localhost:8080/",
          "height": 34
        }
      },
      "source": [
        "a_train = np.reshape(a_train, (a_train.shape[0],a_train.shape[1],a_train.shape[2]))\n",
        "b_train = np.reshape(b_train,(b_train.shape[0],b_train.shape[1]))\n",
        "c_test = np.reshape(c_test,(c_test.shape[0],c_test.shape[1],c_test.shape[2]))\n",
        "d_test = np.reshape(d_test,(d_test.shape[0],d_test.shape[1]))\n",
        "print(a_train.shape,b_train.shape,c_test.shape,d_test.shape)"
      ],
      "execution_count": 0,
      "outputs": [
        {
          "output_type": "stream",
          "text": [
            "(3932, 60, 8) (3932, 5) (935, 60, 8) (935, 5)\n"
          ],
          "name": "stdout"
        }
      ]
    },
    {
      "cell_type": "code",
      "metadata": {
        "id": "cPKvJstTs6Av",
        "colab_type": "code",
        "colab": {}
      },
      "source": [
        "OUTPUT_BEST_WEIGHT = DATA_PATH+\"weights.best.hdf5\"\n",
        "# Save the best weight during training.\n",
        "from tensorflow.keras.callbacks import ModelCheckpoint\n",
        "checkpoint = ModelCheckpoint(OUTPUT_BEST_WEIGHT, monitor='val_mse', verbose=1, save_best_only=True, mode='min')\n",
        "\n",
        "# Monitor the trianing progress via TensorBoard\n",
        "# log_dir = \"logs/\" + datetime.datetime.now().strftime(\"%Y%m%d-%H%M%S\")\n",
        "# tensorboard = TensorBoard(log_dir=log_dir)\n",
        "\n",
        "# Callbacks\n",
        "callbacks_list = [checkpoint] # , tensorboard]\n",
        "from tensorflow.keras.callbacks import LearningRateScheduler\n",
        "import tensorflow.keras.backend as K\n",
        "def scheduler(epoch):\n",
        "    if epoch%10==0 and epoch!=0:\n",
        "        lr = K.get_value(model.optimizer.lr)\n",
        "        K.set_value(model.optimizer.lr, lr*.9)\n",
        "        print(\"lr changed to {}\".format(lr*.9))\n",
        "    return K.get_value(model.optimizer.lr)\n",
        "# To improve the weights towards the global optimal, I retrained the model with LearningRateScheduler added\n",
        "lr_decay = LearningRateScheduler(scheduler)\n",
        "callbacks_list = [checkpoint, lr_decay] # , tensorboard]"
      ],
      "execution_count": 0,
      "outputs": []
    },
    {
      "cell_type": "code",
      "metadata": {
        "id": "VI5OzCeHSmBl",
        "colab_type": "code",
        "colab": {}
      },
      "source": [
        "model = Sequential()\n",
        "model.add(LSTM(units=128, return_sequences=True, input_shape=(a_train.shape[1],a_train.shape[2])))\n",
        "model.add(LSTM(units=64,return_sequences=True))\n",
        "model.add(Dropout(0.2))\n",
        "model.add(LSTM(units=32))\n",
        "model.add(Dropout(0.2))\n",
        "model.add(Dense(5))\n",
        "ADAM=keras.optimizers.Adam(0.0005, beta_1=0.9, beta_2=0.999, amsgrad=False)\n",
        "model.compile(loss='mean_squared_error', optimizer=ADAM)\n",
        "history = model.fit(a_train,b_train,epochs=50,batch_size=60,validation_data=(c_test,d_test),verbose=1,shuffle=False)\n",
        "plt.plot(history.history['loss'], label='train')\n",
        "plt.plot(history.history['val_loss'], label='test')\n",
        "plt.legend()\n",
        "plt.show()"
      ],
      "execution_count": 0,
      "outputs": []
    },
    {
      "cell_type": "code",
      "metadata": {
        "id": "ONqiB7XFaACt",
        "colab_type": "code",
        "colab": {}
      },
      "source": [
        "yhat = model.predict(c_test)"
      ],
      "execution_count": 0,
      "outputs": []
    },
    {
      "cell_type": "code",
      "metadata": {
        "id": "YXE9ui2YaEhE",
        "colab_type": "code",
        "outputId": "1aa66ca2-cbff-47a9-8799-a939805a7c86",
        "colab": {
          "base_uri": "https://localhost:8080/",
          "height": 34
        }
      },
      "source": [
        "print(\"yhat:\",yhat.shape, \"  X_test:\", X_test.shape, \"  y_test:\", y_test.shape)"
      ],
      "execution_count": 0,
      "outputs": [
        {
          "output_type": "stream",
          "text": [
            "yhat: (935, 5)   X_test: (1000, 1, 8)   y_test: (1000, 1, 1)\n"
          ],
          "name": "stdout"
        }
      ]
    },
    {
      "cell_type": "code",
      "metadata": {
        "id": "9bL__7oHbMvQ",
        "colab_type": "code",
        "outputId": "15da748b-96a6-43e1-e8f6-5fbdc7862c21",
        "colab": {
          "base_uri": "https://localhost:8080/",
          "height": 34
        }
      },
      "source": [
        "scaler.inverse_transform(yhat).shape"
      ],
      "execution_count": 0,
      "outputs": [
        {
          "output_type": "execute_result",
          "data": {
            "text/plain": [
              "(935, 5)"
            ]
          },
          "metadata": {
            "tags": []
          },
          "execution_count": 76
        }
      ]
    },
    {
      "cell_type": "code",
      "metadata": {
        "id": "9ZVC7ijJKVK1",
        "colab_type": "code",
        "outputId": "576ea4c9-43ab-446f-8dc6-e86fd1d9023d",
        "colab": {
          "base_uri": "https://localhost:8080/",
          "height": 265
        }
      },
      "source": [
        "yhat = model.predict(c_test)\n",
        "X_test = X_test.reshape((X_test.shape[0], X_test.shape[2]))\n",
        "\n",
        "inv_yhat = concatenate((yhat, X_test[60:, 1:]), axis=1)\n",
        "inv_yhat = scaler.inverse_transform(inv_yhat)\n",
        "inv_yhat = inv_yhat[:,0]\n",
        "\n",
        "y_test = y_test.reshape((len(y_test), 1))\n",
        "inv_y = concatenate((y_test[60:],X_test[60:, 1:]), axis=1)\n",
        "inv_y = scaler.inverse_transform(inv_y)\n",
        "inv_y = inv_y[:,0]\n",
        "rmse = np.sqrt(mean_squared_error(inv_y, inv_yhat))\n",
        "print('Test RMSE: %.3f' % rmse)\n",
        "\n",
        "\n"
      ],
      "execution_count": 0,
      "outputs": [
        {
          "output_type": "error",
          "ename": "ValueError",
          "evalue": "ignored",
          "traceback": [
            "\u001b[0;31m---------------------------------------------------------------------------\u001b[0m",
            "\u001b[0;31mValueError\u001b[0m                                Traceback (most recent call last)",
            "\u001b[0;32m<ipython-input-54-2095044b85ae>\u001b[0m in \u001b[0;36m<module>\u001b[0;34m()\u001b[0m\n\u001b[1;32m      2\u001b[0m \u001b[0mX_test\u001b[0m \u001b[0;34m=\u001b[0m \u001b[0mX_test\u001b[0m\u001b[0;34m.\u001b[0m\u001b[0mreshape\u001b[0m\u001b[0;34m(\u001b[0m\u001b[0;34m(\u001b[0m\u001b[0mX_test\u001b[0m\u001b[0;34m.\u001b[0m\u001b[0mshape\u001b[0m\u001b[0;34m[\u001b[0m\u001b[0;36m0\u001b[0m\u001b[0;34m]\u001b[0m\u001b[0;34m,\u001b[0m \u001b[0mX_test\u001b[0m\u001b[0;34m.\u001b[0m\u001b[0mshape\u001b[0m\u001b[0;34m[\u001b[0m\u001b[0;36m2\u001b[0m\u001b[0;34m]\u001b[0m\u001b[0;34m)\u001b[0m\u001b[0;34m)\u001b[0m\u001b[0;34m\u001b[0m\u001b[0;34m\u001b[0m\u001b[0m\n\u001b[1;32m      3\u001b[0m \u001b[0;34m\u001b[0m\u001b[0m\n\u001b[0;32m----> 4\u001b[0;31m \u001b[0minv_yhat\u001b[0m \u001b[0;34m=\u001b[0m \u001b[0mconcatenate\u001b[0m\u001b[0;34m(\u001b[0m\u001b[0;34m(\u001b[0m\u001b[0myhat\u001b[0m\u001b[0;34m,\u001b[0m\u001b[0mX_test\u001b[0m\u001b[0;34m[\u001b[0m\u001b[0;36m60\u001b[0m\u001b[0;34m:\u001b[0m\u001b[0;34m,\u001b[0m \u001b[0;36m1\u001b[0m\u001b[0;34m:\u001b[0m\u001b[0;34m]\u001b[0m\u001b[0;34m)\u001b[0m\u001b[0;34m,\u001b[0m \u001b[0maxis\u001b[0m\u001b[0;34m=\u001b[0m\u001b[0;36m1\u001b[0m\u001b[0;34m)\u001b[0m\u001b[0;34m\u001b[0m\u001b[0;34m\u001b[0m\u001b[0m\n\u001b[0m\u001b[1;32m      5\u001b[0m \u001b[0minv_yhat\u001b[0m \u001b[0;34m=\u001b[0m \u001b[0mscaler\u001b[0m\u001b[0;34m.\u001b[0m\u001b[0minverse_transform\u001b[0m\u001b[0;34m(\u001b[0m\u001b[0minv_yhat\u001b[0m\u001b[0;34m)\u001b[0m\u001b[0;34m\u001b[0m\u001b[0;34m\u001b[0m\u001b[0m\n\u001b[1;32m      6\u001b[0m \u001b[0minv_yhat\u001b[0m \u001b[0;34m=\u001b[0m \u001b[0minv_yhat\u001b[0m\u001b[0;34m[\u001b[0m\u001b[0;34m:\u001b[0m\u001b[0;34m,\u001b[0m\u001b[0;36m0\u001b[0m\u001b[0;34m]\u001b[0m\u001b[0;34m\u001b[0m\u001b[0;34m\u001b[0m\u001b[0m\n",
            "\u001b[0;32m<__array_function__ internals>\u001b[0m in \u001b[0;36mconcatenate\u001b[0;34m(*args, **kwargs)\u001b[0m\n",
            "\u001b[0;31mValueError\u001b[0m: all the input array dimensions for the concatenation axis must match exactly, but along dimension 0, the array at index 0 has size 935 and the array at index 1 has size 940"
          ]
        }
      ]
    },
    {
      "cell_type": "code",
      "metadata": {
        "id": "4vd7l_tAZ3T4",
        "colab_type": "code",
        "colab": {}
      },
      "source": [
        ""
      ],
      "execution_count": 0,
      "outputs": []
    }
  ]
}